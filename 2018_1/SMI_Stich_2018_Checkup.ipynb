{
 "cells": [
  {
   "cell_type": "markdown",
   "metadata": {},
   "source": [
    "### SMI OLOG"
   ]
  },
  {
   "cell_type": "markdown",
   "metadata": {},
   "source": [
    "SMI Olog (https://logbook.nsls2.bnl.gov/12-ID/)"
   ]
  },
  {
   "cell_type": "code",
   "execution_count": 2,
   "metadata": {},
   "outputs": [],
   "source": [
    "%matplotlib notebook\n",
    "from pySMI.smi_libs import *\n",
    "from pySMI.smi_package import *\n",
    "plt.rcParams.update({'figure.max_open_warning': 0})\n",
    "plt.rcParams.update({ 'image.origin': 'lower'   })\n",
    "plt.rcParams.update({ 'image.interpolation': 'none'   })\n",
    "\n"
   ]
  },
  {
   "cell_type": "code",
   "execution_count": null,
   "metadata": {
    "collapsed": true
   },
   "outputs": [],
   "source": [
    "%run ~/pySMI/pySMI/smi_generic_functions.py"
   ]
  },
  {
   "cell_type": "code",
   "execution_count": null,
   "metadata": {
    "collapsed": true
   },
   "outputs": [],
   "source": [
    "beam_x = 98.0 #97.0 for 2.4 keV; 98 for 16 keV\n",
    "beam_y = 1316.0   #1475 - 159\n",
    "\n",
    "energy = 16.0 #2.484 #keV\n",
    "\n",
    "start_angle = 4.0 #in degree, we will change according to data \n",
    "phi_spacing= 6.0  #previously 4 deg\n",
    "\n"
   ]
  },
  {
   "cell_type": "code",
   "execution_count": null,
   "metadata": {
    "collapsed": true
   },
   "outputs": [],
   "source": [
    "wavelength_A =12.39842/energy\n",
    "sam_det = 0.275 #in meters\n",
    "dq = 4*np.pi/wavelength_A  * (172/1e6/sam_det)\n",
    "\n",
    "calibration = CalibrationGonio(wavelength_A= wavelength_A) # 20.0 keV\n",
    "calibration.set_image_size(195, height=1475) # Pilatus300kW vertical\n",
    "#calibration.set_image_size(1475, height=195) # Pilatus300kW horizontal\n",
    "calibration.set_pixel_size(pixel_size_um=172.0)\n",
    "calibration.set_beam_position(beam_x,  beam_y )\n",
    "calibration.set_distance( sam_det )\n",
    "calibration.set_angles(det_phi_g=0., det_theta_g=0., )\n",
    "print('ratio Dw = {:.3f}'.format(calibration.get_ratioDw()))\n",
    "mask_dir = '/GPFS/xf12id1/analysis/commissioning/masks/'\n",
    "mask = Mask(mask_dir+'Pilatus300kWh_main_gaps-mask.png')\n",
    "#mask.load('./Pilatus300kWh_current-mask.png')\n",
    "mask.load(mask_dir+'Pilatus300kWh_current-mask.png')"
   ]
  },
  {
   "cell_type": "markdown",
   "metadata": {},
   "source": [
    "# Define Cycle &proposal_id here"
   ]
  },
  {
   "cell_type": "code",
   "execution_count": null,
   "metadata": {
    "collapsed": true
   },
   "outputs": [],
   "source": [
    "CYCLE='2017_3'\n",
    "proposal_id =  '302771'\n",
    "\n",
    "\n"
   ]
  },
  {
   "cell_type": "code",
   "execution_count": null,
   "metadata": {
    "collapsed": true
   },
   "outputs": [],
   "source": [
    "inDir = '/GPFS/xf12id1/data/300KW/images/users/%s/'%proposal_id"
   ]
  },
  {
   "cell_type": "code",
   "execution_count": null,
   "metadata": {
    "collapsed": true
   },
   "outputs": [],
   "source": [
    "fp = get_base_all_filenames(inDir,base_filename_cut_length=-12-3 )\n",
    "print('We found %s samples in %s folder.' %(len( list( fp.keys() ) ), inDir ) )"
   ]
  },
  {
   "cell_type": "markdown",
   "metadata": {},
   "source": [
    "# Create ResDir Here"
   ]
  },
  {
   "cell_type": "code",
   "execution_count": null,
   "metadata": {
    "collapsed": true
   },
   "outputs": [],
   "source": [
    "ResDir0 = os.path.join('/GPFS/xf12id1/analysis/2017_3/', proposal_id, 'Results/Ramya/')\n",
    "os.makedirs(ResDir0, exist_ok=True)\n",
    "print('Results from this analysis will be stashed in the directory %s' % ResDir0)"
   ]
  },
  {
   "cell_type": "code",
   "execution_count": null,
   "metadata": {
    "collapsed": true,
    "scrolled": true
   },
   "outputs": [],
   "source": [
    "for k in list(fp.keys()):\n",
    "    print(k)"
   ]
  },
  {
   "cell_type": "code",
   "execution_count": null,
   "metadata": {
    "collapsed": true
   },
   "outputs": [],
   "source": [
    "\n",
    "#%run ~/pySMI/pySMI/Stitching.py"
   ]
  },
  {
   "cell_type": "markdown",
   "metadata": {},
   "source": [
    "# Select a interested data set here"
   ]
  },
  {
   "cell_type": "code",
   "execution_count": null,
   "metadata": {
    "collapsed": true
   },
   "outputs": [],
   "source": [
    "\n",
    "k = 'BSpec_RT_FullSample_ExoMeso_Coarse_Scan_'"
   ]
  },
  {
   "cell_type": "code",
   "execution_count": null,
   "metadata": {
    "collapsed": true
   },
   "outputs": [],
   "source": [
    "k"
   ]
  },
  {
   "cell_type": "code",
   "execution_count": null,
   "metadata": {
    "collapsed": true
   },
   "outputs": [],
   "source": [
    "ResDir = os.path.join( ResDir0, k +'/' )\n",
    "os.makedirs(ResDir, exist_ok=True)\n",
    "print('Results from this analysis will be stashed in the directory %s' % ResDir)\n"
   ]
  },
  {
   "cell_type": "code",
   "execution_count": null,
   "metadata": {
    "collapsed": true,
    "scrolled": true
   },
   "outputs": [],
   "source": [
    "infiles = sorted( fp[k] )\n",
    "print(len(infiles))"
   ]
  },
  {
   "cell_type": "code",
   "execution_count": null,
   "metadata": {
    "collapsed": true
   },
   "outputs": [],
   "source": []
  },
  {
   "cell_type": "markdown",
   "metadata": {},
   "source": [
    "# Check raw data"
   ]
  },
  {
   "cell_type": "code",
   "execution_count": null,
   "metadata": {
    "collapsed": true
   },
   "outputs": [],
   "source": [
    "ResDir"
   ]
  },
  {
   "cell_type": "code",
   "execution_count": null,
   "metadata": {
    "collapsed": true
   },
   "outputs": [],
   "source": [
    "vmin= 10\n",
    "vmax= 7e2"
   ]
  },
  {
   "cell_type": "code",
   "execution_count": null,
   "metadata": {
    "collapsed": true
   },
   "outputs": [],
   "source": [
    "Ns = 0\n",
    "Ni = 5"
   ]
  },
  {
   "cell_type": "code",
   "execution_count": null,
   "metadata": {
    "collapsed": true,
    "scrolled": true
   },
   "outputs": [],
   "source": [
    "\n",
    "\n",
    "fig = plt.figure()# figsize=[2,8]) \n",
    "for i in range(Ns, Ns+Ni):\n",
    "    #print(i)\n",
    "    ax = fig.add_subplot(1, Ni+1, i+1)\n",
    "    #d = process.load(  infiles[i]  )\n",
    "    \n",
    "    d = np.array(  PIL.Image.open(infiles[i]).convert('I') )\n",
    "    #vmin=  max(1, d.mean() - d.std()*sca), vmax= d.mean() + d.std()*sca,\n",
    "    sca= 1\n",
    "    show_img( (d).T, logs = True, show_colorbar= False,show_ticks =False,\n",
    "             ax= [fig, ax], image_name= '%02d'%(i+1), cmap = cmap_vge_hdr, \n",
    "             vmin= vmin, vmax= vmax,              \n",
    "            aspect=1, save=False, path=ResDir)\n",
    "fig.savefig(ResDir + k+'raw_image_%s-%s.png'%(Ns, Ns+Ni))"
   ]
  },
  {
   "cell_type": "code",
   "execution_count": null,
   "metadata": {
    "collapsed": true
   },
   "outputs": [],
   "source": []
  },
  {
   "cell_type": "markdown",
   "metadata": {},
   "source": [
    "# Set data for stitching"
   ]
  },
  {
   "cell_type": "code",
   "execution_count": null,
   "metadata": {
    "collapsed": true
   },
   "outputs": [],
   "source": [
    "Ns = 205 + 6  #Ns = 210 is a good for benchmark\n",
    "Ns = 90  \n",
    "Ni = 5\n",
    "\n",
    "if Ns%2:\n",
    "    snake = True\n",
    "    print('This is a snake scan.')\n",
    "else:\n",
    "    snake = False\n",
    "if snake:\n",
    "    infiles = sorted( fp[k] )[ Ns: Ns+Ni][::-1]\n",
    "else:\n",
    "    infiles = sorted( fp[k] )[ Ns: Ns+Ni] \n",
    "\n",
    "print( sorted(fp[k])[Ns])\n",
    "#phis = np.array( [get_phi(infile, phi_offset= 0, phi_start=4.5, phi_spacing= 4.0, ext='_WAXS.tif') for infile in infiles]     )\n",
    "start_angle = 5.0\n",
    "phi_spacing = 6  \n",
    "phis = -start_angle - np.arange(0, Ni) * phi_spacing \n",
    "print('The rotated angles are: %s.'%phis)\n"
   ]
  },
  {
   "cell_type": "code",
   "execution_count": null,
   "metadata": {
    "collapsed": true
   },
   "outputs": [],
   "source": []
  },
  {
   "cell_type": "code",
   "execution_count": null,
   "metadata": {
    "collapsed": true
   },
   "outputs": [],
   "source": [
    "overlap_width = get_pixel_overlap( phi_spacing )\n",
    "print( overlap_width )"
   ]
  },
  {
   "cell_type": "markdown",
   "metadata": {},
   "source": [
    "# Find the scaling factor for stitiching\n",
    "* define the smoothing parameter (w, p)  in a savgol_filter algorithm"
   ]
  },
  {
   "cell_type": "code",
   "execution_count": null,
   "metadata": {
    "collapsed": true
   },
   "outputs": [],
   "source": [
    "w= 801\n",
    "\n",
    "if w>=101:\n",
    "    p = 5\n",
    "else:\n",
    "    p=3\n",
    "    \n",
    "print(w,p)    \n",
    "    "
   ]
  },
  {
   "cell_type": "markdown",
   "metadata": {},
   "source": [
    "# Stich by giving filenames"
   ]
  },
  {
   "cell_type": "code",
   "execution_count": null,
   "metadata": {
    "collapsed": true,
    "scrolled": true
   },
   "outputs": [],
   "source": [
    "infiles"
   ]
  },
  {
   "cell_type": "code",
   "execution_count": null,
   "metadata": {
    "collapsed": true
   },
   "outputs": [],
   "source": [
    "data, dataM, scale,scale_smooth = Correct_Overlap_Images_Intensities( infiles, window_length=w, polyorder=p, \n",
    "                            overlap_width= overlap_width, badpixel_width = 10  )\n",
    "\n",
    "check_overlap_scaling_factor( scale,scale_smooth, i=1, \n",
    "                             filename = ResDir + k + 'smoothed_one_line_1_%s-%s.png'%(Ns, Ns+Ni), \n",
    "                             save= True )\n"
   ]
  },
  {
   "cell_type": "markdown",
   "metadata": {},
   "source": [
    "# OR Stitch by giving data"
   ]
  },
  {
   "cell_type": "code",
   "execution_count": null,
   "metadata": {
    "collapsed": true
   },
   "outputs": [],
   "source": [
    "fps = [  'BSpec_RT_FullSample_ExoMeso_Coarse_Scan_%03d_WAXS.tif'%i for i in range(91, 96)]\n",
    "print(fps)"
   ]
  },
  {
   "cell_type": "code",
   "execution_count": null,
   "metadata": {
    "collapsed": true
   },
   "outputs": [],
   "source": [
    "Data = np.zeros( 5, dtype= object )\n",
    "for j, fp in enumerate( fps ):\n",
    "    Data[j] = np.array(  PIL.Image.open( inDir + fp    ).convert('I') )\n"
   ]
  },
  {
   "cell_type": "code",
   "execution_count": null,
   "metadata": {
    "collapsed": true
   },
   "outputs": [],
   "source": [
    "data, dataM, scale,scale_smooth = Correct_Overlap_Images_Intensities( infiles, Data=Data,\n",
    "                                                window_length=w, polyorder=p, \n",
    "                            overlap_width= overlap_width, badpixel_width = 10  )\n",
    "\n",
    "check_overlap_scaling_factor( scale,scale_smooth, i=1, \n",
    "                             filename = ResDir + k + 'smoothed_one_line_1_%s-%s.png'%(Ns, Ns+Ni), \n",
    "                             save= True )\n"
   ]
  },
  {
   "cell_type": "code",
   "execution_count": null,
   "metadata": {
    "collapsed": true
   },
   "outputs": [],
   "source": []
  },
  {
   "cell_type": "markdown",
   "metadata": {
    "collapsed": true
   },
   "source": [
    "# Stitching data here"
   ]
  },
  {
   "cell_type": "code",
   "execution_count": null,
   "metadata": {
    "collapsed": true
   },
   "outputs": [],
   "source": [
    "angzs, angze, angxs, angxe = [\n",
    "    np.degrees( np.arctan2 ( (beam_y-data.shape[0]) * 172/1e6, sam_det ) ), \n",
    "    np.degrees( np.arctan2 ( ( beam_y ) * 172/1e6, sam_det ) ),\n",
    "    abs(phis[0]) - 3.5, \n",
    "    abs(phis[ len(phis)-1]) + 3.5     ] \n",
    "\n",
    "ytick = np.round( np.linspace(angzs, angze, 9 ), 0 )\n",
    "xtick = np.round( np.linspace(angxs, angxe, 8 ), 0 )\n",
    "axs =  np.linspace(angxs, angxe, data.shape[1] )\n",
    "azs =  np.linspace(angzs, angze, data.shape[0] )"
   ]
  },
  {
   "cell_type": "code",
   "execution_count": null,
   "metadata": {
    "collapsed": true
   },
   "outputs": [],
   "source": [
    "print( angxs, angxe, angzs, angze )"
   ]
  },
  {
   "cell_type": "markdown",
   "metadata": {},
   "source": [
    "# Stitching data in angle space"
   ]
  },
  {
   "cell_type": "code",
   "execution_count": null,
   "metadata": {
    "collapsed": true
   },
   "outputs": [],
   "source": [
    "\n",
    "\n",
    "fig,ax=plt.subplots()\n",
    "show_img(data, logs = False,  ax=[fig,ax], \n",
    "         vmin=vmin, vmax=vmax,\n",
    "         cmap = cmap_vge_hdr,  extent=[angxs, angxe, angzs, angze], aspect=1,  \n",
    "         image_name = k+ 'Angle_%s-%s'%(Ns, Ns+Ni), dpi=500, save=False, path=ResDir)\n",
    "ax.set_yticks( ytick )\n",
    "ax.set_xticks( xtick )\n",
    "\n",
    "fig.savefig( ResDir +  k+ 'Angle_%s-%s.png'%(Ns, Ns+Ni) )"
   ]
  },
  {
   "cell_type": "markdown",
   "metadata": {
    "collapsed": true
   },
   "source": [
    "# Stitching data in q-space"
   ]
  },
  {
   "cell_type": "code",
   "execution_count": null,
   "metadata": {
    "collapsed": true,
    "scrolled": false
   },
   "outputs": [],
   "source": [
    "qdata, xs, zs = stitch_WAXS_in_Qspace( dataM, phis, calibration, x='Qx',\n",
    "                              dx= 0, dy = 22, dz = 0,  dq= dq, mask=mask.data.T )\n",
    "    \n",
    "show_img(qdata, logs = False,  vmin=  vmin, vmax= vmax,\n",
    "         extent=[xs[0], xs[-1], zs[0],zs[-1]], xlabel='$q_x \\, (\\AA^{-1})$',  ylabel='$q_z \\, (\\AA^{-1})$', \n",
    "         cmap = cmap_vge_hdr,   aspect=1,  image_name = k + 'Q_pos_%s-%s'%(Ns, Ns+Ni), \n",
    "         save=True, path=ResDir)\n",
    "\n"
   ]
  },
  {
   "cell_type": "markdown",
   "metadata": {
    "collapsed": true
   },
   "source": [
    "# Show the stitched image with a ring"
   ]
  },
  {
   "cell_type": "code",
   "execution_count": null,
   "metadata": {
    "collapsed": true
   },
   "outputs": [],
   "source": [
    "if False:\n",
    "    bx,by = np.argmin( np.abs(xs) ), np.argmin( np.abs(zs) )\n",
    "\n",
    "    ring_mask = create_ring_mask( qdata.shape, 103, 184, [bx,by]  )\n",
    "\n",
    "    show_img(qdata, label_array=ring_mask, logs = False, \n",
    "         vmin=  max(0,qdata.mean() -qdata.std()*sca), vmax= qdata.mean() + qdata.std()*sca,          \n",
    "         cmap = cmap_vge_hdr,   aspect=1,  image_name = k + 'Q')\n"
   ]
  },
  {
   "cell_type": "code",
   "execution_count": null,
   "metadata": {
    "collapsed": true
   },
   "outputs": [],
   "source": []
  },
  {
   "cell_type": "markdown",
   "metadata": {},
   "source": [
    "# Save data"
   ]
  },
  {
   "cell_type": "markdown",
   "metadata": {
    "collapsed": true
   },
   "source": [
    "xx, zz = np.meshgrid( axs, azs)            \n",
    "m = np.round( np.vstack( [xx.ravel(), zz.ravel(), data.ravel()] ).T, 5) \n",
    "np.savetxt( ResDir  + k + 'Angle_data_%s_%s.txt'%(Ns, Ns+5),   m,fmt='%.5e', ) \n",
    "#np.save(  ResDir  + k + 'Angle_data', data )\n",
    "\n",
    "xx, zz = np.meshgrid( xs, zs)            \n",
    "m = np.round( np.vstack( [xx.ravel(), zz.ravel(), qdata.ravel()] ).T, 5) \n",
    "np.savetxt( ResDir  + k + 'Q_data_%s_%s.txt'%(Ns, Ns+5),   m,fmt='%.5e', ) \n",
    "#np.save(  ResDir  + k + 'Angle_data', data )"
   ]
  },
  {
   "cell_type": "code",
   "execution_count": null,
   "metadata": {
    "collapsed": true
   },
   "outputs": [],
   "source": [
    "save_array_to_tiff(  qdata, ResDir + k + 'Qmap_%s-%s.tif'%(Ns, Ns+Ni)  )\n",
    "np.savetxt(  ResDir + k + 'Qmap_qx_cor_%s-%s.txt'%(Ns, Ns+Ni),  xs )\n",
    "np.savetxt(  ResDir + k + 'Qmap_qz_cor_%s-%s.txt'%(Ns, Ns+Ni),  zs )"
   ]
  },
  {
   "cell_type": "code",
   "execution_count": null,
   "metadata": {
    "collapsed": true
   },
   "outputs": [],
   "source": []
  },
  {
   "cell_type": "code",
   "execution_count": null,
   "metadata": {
    "collapsed": true
   },
   "outputs": [],
   "source": []
  },
  {
   "cell_type": "code",
   "execution_count": null,
   "metadata": {
    "collapsed": true
   },
   "outputs": [],
   "source": []
  },
  {
   "cell_type": "code",
   "execution_count": null,
   "metadata": {
    "collapsed": true
   },
   "outputs": [],
   "source": []
  },
  {
   "cell_type": "code",
   "execution_count": null,
   "metadata": {
    "collapsed": true
   },
   "outputs": [],
   "source": []
  },
  {
   "cell_type": "code",
   "execution_count": null,
   "metadata": {
    "collapsed": true
   },
   "outputs": [],
   "source": []
  },
  {
   "cell_type": "code",
   "execution_count": null,
   "metadata": {
    "collapsed": true
   },
   "outputs": [],
   "source": []
  },
  {
   "cell_type": "code",
   "execution_count": null,
   "metadata": {
    "collapsed": true
   },
   "outputs": [],
   "source": []
  },
  {
   "cell_type": "code",
   "execution_count": null,
   "metadata": {
    "collapsed": true
   },
   "outputs": [],
   "source": []
  },
  {
   "cell_type": "code",
   "execution_count": null,
   "metadata": {
    "collapsed": true
   },
   "outputs": [],
   "source": []
  }
 ],
 "metadata": {
  "kernelspec": {
   "display_name": "pySMI",
   "language": "python",
   "name": "pysmi"
  },
  "language_info": {
   "codemirror_mode": {
    "name": "ipython",
    "version": 3
   },
   "file_extension": ".py",
   "mimetype": "text/x-python",
   "name": "python",
   "nbconvert_exporter": "python",
   "pygments_lexer": "ipython3",
   "version": "3.6.2"
  }
 },
 "nbformat": 4,
 "nbformat_minor": 2
}
